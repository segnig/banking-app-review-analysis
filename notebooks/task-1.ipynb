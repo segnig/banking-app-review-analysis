{
 "cells": [
  {
   "cell_type": "markdown",
   "id": "c416ea66",
   "metadata": {},
   "source": [
    "# Overview\n",
    "\n",
    "This notebook documents the end-to-end workflow for scraping, preprocessing, and analyzing user reviews from selected mobile banking applications. The main steps and methodologies are outlined below:\n",
    "\n",
    "## 1. Data Collection\n",
    "\n",
    "- **Automated Scraping:**  \n",
    "    Utilized a custom `ScrapeReview` class to programmatically collect user reviews and basic metadata from three mobile banking apps.\n",
    "- **Configuration:**  \n",
    "    Specified app IDs, enabled saving of results, set retry logic, and controlled scraping delays for robust data acquisition.\n",
    "\n",
    "## 2. Data Exploration\n",
    "\n",
    "- **Initial Inspection:**  \n",
    "    Displayed the first few rows of the scraped reviews to understand the structure and content.\n",
    "- **Missing Values & Duplicates:**  \n",
    "    Checked for missing values and duplicate entries to assess data quality before further processing.\n",
    "\n",
    "## 3. Data Preprocessing\n",
    "\n",
    "- **Cleaning Pipeline:**  \n",
    "    Employed a `DataPreprocessor` class to clean the raw reviews, handling tasks such as removing duplicates, handling missing values, and standardizing formats.\n",
    "- **Saving Cleaned Data:**  \n",
    "    Saved the cleaned dataset for reproducibility and further analysis.\n",
    "\n",
    "## 4. Exploratory Data Analysis (EDA)\n",
    "\n",
    "- **App-wise Review Distribution:**  \n",
    "    Visualized the distribution of reviews and ratings for each app to identify trends and outliers.\n",
    "- **Value Counts:**  \n",
    "    Analyzed the number of reviews per app to compare user engagement.\n",
    "\n",
    "## Next Steps / Plan\n",
    "\n",
    "- **Sentiment Analysis:**  \n",
    "    Plan to apply NLP techniques to extract sentiment and key themes from the reviews.\n",
    "- **Feature Engineering:**  \n",
    "    Intend to engineer additional features (e.g., review length, keyword presence) for deeper insights.\n",
    "- **Comparative Analysis:**  \n",
    "    Will compare user feedback across different apps to identify strengths and weaknesses.\n",
    "- **Reporting:**  \n",
    "    Summarize findings and actionable recommendations for stakeholders.\n",
    "\n",
    "---\n",
    "\n",
    "This structured approach ensures a comprehensive understanding of user feedback, supporting data-driven improvements for mobile banking applications."
   ]
  },
  {
   "cell_type": "code",
   "execution_count": 1,
   "id": "88fe2842",
   "metadata": {},
   "outputs": [
    {
     "name": "stdout",
     "output_type": "stream",
     "text": [
      "Scraping reviews for 3 apps...\n"
     ]
    },
    {
     "name": "stderr",
     "output_type": "stream",
     "text": [
      "Scraping apps:  33%|███▎      | 1/3 [00:13<00:27, 13.54s/it]c:\\Users\\segni\\Documents\\GitHub\\banking-app-review-analysis\\scripts\\scrape_reviews.py:133: FutureWarning: The behavior of DataFrame concatenation with empty or all-NA entries is deprecated. In a future version, this will no longer exclude empty or all-NA columns when determining the result dtypes. To retain the old behavior, exclude the relevant entries before the concat operation.\n",
      "  all_data = pd.concat([all_data, df], ignore_index=True)\n",
      "Scraping apps: 100%|██████████| 3/3 [00:49<00:00, 16.55s/it]"
     ]
    },
    {
     "name": "stdout",
     "output_type": "stream",
     "text": [
      "Data saved to ../data\\raw_reviews.csv\n",
      "Data also saved as JSON to ../data\\raw_reviews.json\n",
      "Scraped 6493 reviews\n",
      "Scraped metadata for 0 apps\n"
     ]
    },
    {
     "name": "stderr",
     "output_type": "stream",
     "text": [
      "\n"
     ]
    }
   ],
   "source": [
    "import sys\n",
    "import os\n",
    "\n",
    "sys.path.append(os.path.abspath(\"../scripts\"))\n",
    "from scrape_reviews import ScrapeReview\n",
    "\n",
    "app_ids = [\"com.combanketh.mobilebanking\", \"com.dashen.dashensuperapp\", \"com.boa.boaMobileBanking\"]\n",
    "scraper = ScrapeReview(\n",
    "    app_ids=app_ids,\n",
    "    save=True,\n",
    "    scrape_metadata=False,\n",
    "    max_retries=5,\n",
    "    delay=1.5\n",
    ")\n",
    "\n",
    "reviews_df = scraper.get_reviews()\n",
    "metadata = scraper.get_metadata()\n",
    "\n",
    "print(f\"Scraped {len(reviews_df)} reviews\")\n",
    "print(f\"Scraped metadata for {len(metadata)} apps\")"
   ]
  },
  {
   "cell_type": "code",
   "execution_count": 2,
   "id": "0a0ed95c",
   "metadata": {},
   "outputs": [
    {
     "data": {
      "text/html": [
       "<div>\n",
       "<style scoped>\n",
       "    .dataframe tbody tr th:only-of-type {\n",
       "        vertical-align: middle;\n",
       "    }\n",
       "\n",
       "    .dataframe tbody tr th {\n",
       "        vertical-align: top;\n",
       "    }\n",
       "\n",
       "    .dataframe thead th {\n",
       "        text-align: right;\n",
       "    }\n",
       "</style>\n",
       "<table border=\"1\" class=\"dataframe\">\n",
       "  <thead>\n",
       "    <tr style=\"text-align: right;\">\n",
       "      <th></th>\n",
       "      <th>reviewId</th>\n",
       "      <th>userName</th>\n",
       "      <th>content</th>\n",
       "      <th>score</th>\n",
       "      <th>thumbsUpCount</th>\n",
       "      <th>at</th>\n",
       "      <th>app_id</th>\n",
       "    </tr>\n",
       "  </thead>\n",
       "  <tbody>\n",
       "    <tr>\n",
       "      <th>0</th>\n",
       "      <td>8efd71e9-59cd-41ce-8c5c-12052dee9ad0</td>\n",
       "      <td>A Google user</td>\n",
       "      <td>what is this app problem???</td>\n",
       "      <td>1</td>\n",
       "      <td>0</td>\n",
       "      <td>2025-06-05 22:16:56</td>\n",
       "      <td>com.combanketh.mobilebanking</td>\n",
       "    </tr>\n",
       "    <tr>\n",
       "      <th>1</th>\n",
       "      <td>b12d0383-9b27-4e49-a94d-277a43b15800</td>\n",
       "      <td>A Google user</td>\n",
       "      <td>the app is proactive and a good connections.</td>\n",
       "      <td>5</td>\n",
       "      <td>0</td>\n",
       "      <td>2025-06-05 15:55:10</td>\n",
       "      <td>com.combanketh.mobilebanking</td>\n",
       "    </tr>\n",
       "    <tr>\n",
       "      <th>2</th>\n",
       "      <td>dd9f9e37-177a-46df-b877-d0edaa9aed29</td>\n",
       "      <td>A Google user</td>\n",
       "      <td>I cannot send to cbebirr app. through this app.</td>\n",
       "      <td>3</td>\n",
       "      <td>0</td>\n",
       "      <td>2025-06-05 11:12:49</td>\n",
       "      <td>com.combanketh.mobilebanking</td>\n",
       "    </tr>\n",
       "    <tr>\n",
       "      <th>3</th>\n",
       "      <td>8e34703c-203c-4180-8b32-bfd0b3f0c871</td>\n",
       "      <td>A Google user</td>\n",
       "      <td>good</td>\n",
       "      <td>4</td>\n",
       "      <td>0</td>\n",
       "      <td>2025-06-05 10:21:59</td>\n",
       "      <td>com.combanketh.mobilebanking</td>\n",
       "    </tr>\n",
       "    <tr>\n",
       "      <th>4</th>\n",
       "      <td>6f0c7fa2-3ce1-4310-b135-54fe0cb9fccd</td>\n",
       "      <td>A Google user</td>\n",
       "      <td>not functional</td>\n",
       "      <td>1</td>\n",
       "      <td>0</td>\n",
       "      <td>2025-06-05 07:38:12</td>\n",
       "      <td>com.combanketh.mobilebanking</td>\n",
       "    </tr>\n",
       "  </tbody>\n",
       "</table>\n",
       "</div>"
      ],
      "text/plain": [
       "                               reviewId       userName  \\\n",
       "0  8efd71e9-59cd-41ce-8c5c-12052dee9ad0  A Google user   \n",
       "1  b12d0383-9b27-4e49-a94d-277a43b15800  A Google user   \n",
       "2  dd9f9e37-177a-46df-b877-d0edaa9aed29  A Google user   \n",
       "3  8e34703c-203c-4180-8b32-bfd0b3f0c871  A Google user   \n",
       "4  6f0c7fa2-3ce1-4310-b135-54fe0cb9fccd  A Google user   \n",
       "\n",
       "                                           content  score  thumbsUpCount  \\\n",
       "0                      what is this app problem???      1              0   \n",
       "1     the app is proactive and a good connections.      5              0   \n",
       "2  I cannot send to cbebirr app. through this app.      3              0   \n",
       "3                                             good      4              0   \n",
       "4                                   not functional      1              0   \n",
       "\n",
       "                   at                        app_id  \n",
       "0 2025-06-05 22:16:56  com.combanketh.mobilebanking  \n",
       "1 2025-06-05 15:55:10  com.combanketh.mobilebanking  \n",
       "2 2025-06-05 11:12:49  com.combanketh.mobilebanking  \n",
       "3 2025-06-05 10:21:59  com.combanketh.mobilebanking  \n",
       "4 2025-06-05 07:38:12  com.combanketh.mobilebanking  "
      ]
     },
     "execution_count": 2,
     "metadata": {},
     "output_type": "execute_result"
    }
   ],
   "source": [
    "reviews_df.head()"
   ]
  },
  {
   "cell_type": "markdown",
   "id": "2c2b322d",
   "metadata": {},
   "source": [
    "### Data preprocess"
   ]
  },
  {
   "cell_type": "code",
   "execution_count": 3,
   "id": "d12ea5f6",
   "metadata": {},
   "outputs": [
    {
     "data": {
      "text/plain": [
       "reviewId         0\n",
       "userName         0\n",
       "content          0\n",
       "score            0\n",
       "thumbsUpCount    0\n",
       "at               0\n",
       "app_id           0\n",
       "dtype: int64"
      ]
     },
     "execution_count": 3,
     "metadata": {},
     "output_type": "execute_result"
    }
   ],
   "source": [
    "reviews_df.isna().sum()"
   ]
  },
  {
   "cell_type": "code",
   "execution_count": 4,
   "id": "85fbf535",
   "metadata": {},
   "outputs": [
    {
     "data": {
      "text/plain": [
       "np.int64(0)"
      ]
     },
     "execution_count": 4,
     "metadata": {},
     "output_type": "execute_result"
    }
   ],
   "source": [
    "# Check duplicate data rows \n",
    "\n",
    "reviews_df.duplicated().sum()"
   ]
  },
  {
   "cell_type": "code",
   "execution_count": 5,
   "id": "0de507c8",
   "metadata": {},
   "outputs": [
    {
     "name": "stdout",
     "output_type": "stream",
     "text": [
      "Loading data from ../data/raw_reviews.csv\n",
      "Successfully loaded 6493 records\n",
      "Starting data preprocessing\n",
      "Dropped 0 records with missing values\n",
      "Dropped 0 duplicate records\n",
      "Successfully saved 6493 records to ../data/cleaned_reviews.csv\n",
      "Final cleaned data has 6493 records\n"
     ]
    },
    {
     "data": {
      "text/html": [
       "<div>\n",
       "<style scoped>\n",
       "    .dataframe tbody tr th:only-of-type {\n",
       "        vertical-align: middle;\n",
       "    }\n",
       "\n",
       "    .dataframe tbody tr th {\n",
       "        vertical-align: top;\n",
       "    }\n",
       "\n",
       "    .dataframe thead th {\n",
       "        text-align: right;\n",
       "    }\n",
       "</style>\n",
       "<table border=\"1\" class=\"dataframe\">\n",
       "  <thead>\n",
       "    <tr style=\"text-align: right;\">\n",
       "      <th></th>\n",
       "      <th>app_id</th>\n",
       "      <th>app_name</th>\n",
       "      <th>user_name</th>\n",
       "      <th>review</th>\n",
       "      <th>rating</th>\n",
       "      <th>thumbs_up_count</th>\n",
       "      <th>date</th>\n",
       "    </tr>\n",
       "  </thead>\n",
       "  <tbody>\n",
       "    <tr>\n",
       "      <th>0</th>\n",
       "      <td>com.combanketh.mobilebanking</td>\n",
       "      <td>Combanketh</td>\n",
       "      <td>A Google user</td>\n",
       "      <td>what is this app problem???</td>\n",
       "      <td>1</td>\n",
       "      <td>0</td>\n",
       "      <td>2025-06-05 22:16:56</td>\n",
       "    </tr>\n",
       "    <tr>\n",
       "      <th>1</th>\n",
       "      <td>com.combanketh.mobilebanking</td>\n",
       "      <td>Combanketh</td>\n",
       "      <td>A Google user</td>\n",
       "      <td>the app is proactive and a good connections.</td>\n",
       "      <td>5</td>\n",
       "      <td>0</td>\n",
       "      <td>2025-06-05 15:55:10</td>\n",
       "    </tr>\n",
       "    <tr>\n",
       "      <th>2</th>\n",
       "      <td>com.combanketh.mobilebanking</td>\n",
       "      <td>Combanketh</td>\n",
       "      <td>A Google user</td>\n",
       "      <td>I cannot send to cbebirr app. through this app.</td>\n",
       "      <td>3</td>\n",
       "      <td>0</td>\n",
       "      <td>2025-06-05 11:12:49</td>\n",
       "    </tr>\n",
       "    <tr>\n",
       "      <th>3</th>\n",
       "      <td>com.combanketh.mobilebanking</td>\n",
       "      <td>Combanketh</td>\n",
       "      <td>A Google user</td>\n",
       "      <td>good</td>\n",
       "      <td>4</td>\n",
       "      <td>0</td>\n",
       "      <td>2025-06-05 10:21:59</td>\n",
       "    </tr>\n",
       "    <tr>\n",
       "      <th>4</th>\n",
       "      <td>com.combanketh.mobilebanking</td>\n",
       "      <td>Combanketh</td>\n",
       "      <td>A Google user</td>\n",
       "      <td>not functional</td>\n",
       "      <td>1</td>\n",
       "      <td>0</td>\n",
       "      <td>2025-06-05 07:38:12</td>\n",
       "    </tr>\n",
       "  </tbody>\n",
       "</table>\n",
       "</div>"
      ],
      "text/plain": [
       "                         app_id    app_name      user_name  \\\n",
       "0  com.combanketh.mobilebanking  Combanketh  A Google user   \n",
       "1  com.combanketh.mobilebanking  Combanketh  A Google user   \n",
       "2  com.combanketh.mobilebanking  Combanketh  A Google user   \n",
       "3  com.combanketh.mobilebanking  Combanketh  A Google user   \n",
       "4  com.combanketh.mobilebanking  Combanketh  A Google user   \n",
       "\n",
       "                                            review  rating  thumbs_up_count  \\\n",
       "0                      what is this app problem???       1                0   \n",
       "1     the app is proactive and a good connections.       5                0   \n",
       "2  I cannot send to cbebirr app. through this app.       3                0   \n",
       "3                                             good       4                0   \n",
       "4                                   not functional       1                0   \n",
       "\n",
       "                 date  \n",
       "0 2025-06-05 22:16:56  \n",
       "1 2025-06-05 15:55:10  \n",
       "2 2025-06-05 11:12:49  \n",
       "3 2025-06-05 10:21:59  \n",
       "4 2025-06-05 07:38:12  "
      ]
     },
     "execution_count": 5,
     "metadata": {},
     "output_type": "execute_result"
    }
   ],
   "source": [
    "import sys\n",
    "import os\n",
    "\n",
    "sys.path.append(os.path.abspath(\"../scripts\"))\n",
    "from preprocess import DataPreprocessor\n",
    "\n",
    "\n",
    "input_file = \"../data/raw_reviews.csv\"\n",
    "output_file = \"../data/cleaned_reviews.csv\"\n",
    "# Initialize with verbose output\n",
    "preprocessor = DataPreprocessor(\n",
    "    input_file=input_file,\n",
    "    output_file=output_file,\n",
    "    save=True,\n",
    "    verbose=True\n",
    ")\n",
    "\n",
    "# Get cleaned data\n",
    "cleaned_data = preprocessor.get_cleaned_data()\n",
    "\n",
    "# Check results\n",
    "print(f\"Final cleaned data has {len(cleaned_data)} records\")\n",
    "cleaned_data.head()"
   ]
  },
  {
   "cell_type": "markdown",
   "id": "9e938b89",
   "metadata": {},
   "source": [
    "### **Cleaned data**"
   ]
  },
  {
   "cell_type": "code",
   "execution_count": 6,
   "id": "721d77c6",
   "metadata": {},
   "outputs": [
    {
     "data": {
      "text/plain": [
       "app_name\n",
       "Combanketh    5000\n",
       "Boa           1045\n",
       "Dashen         448\n",
       "Name: count, dtype: int64"
      ]
     },
     "execution_count": 6,
     "metadata": {},
     "output_type": "execute_result"
    }
   ],
   "source": [
    "cleaned_data.app_name.value_counts()"
   ]
  },
  {
   "cell_type": "markdown",
   "id": "d32dd7cb",
   "metadata": {},
   "source": [
    "### EDA"
   ]
  },
  {
   "cell_type": "code",
   "execution_count": null,
   "id": "6ce81e5b",
   "metadata": {},
   "outputs": [
    {
     "name": "stderr",
     "output_type": "stream",
     "text": [
      "c:\\Users\\segni\\Documents\\GitHub\\banking-app-review-analysis\\scripts\\analysis_and_visualization.py:58: FutureWarning: \n",
      "\n",
      "Passing `palette` without assigning `hue` is deprecated and will be removed in v0.14.0. Assign the `x` variable to `hue` and set `legend=False` for the same effect.\n",
      "\n",
      "  sns.barplot(\n",
      "c:\\Users\\segni\\Documents\\GitHub\\banking-app-review-analysis\\scripts\\analysis_and_visualization.py:72: FutureWarning: \n",
      "\n",
      "Passing `palette` without assigning `hue` is deprecated and will be removed in v0.14.0. Assign the `x` variable to `hue` and set `legend=False` for the same effect.\n",
      "\n",
      "  sns.barplot(\n"
     ]
    },
    {
     "data": {
      "image/png": "[encoded data removed]",
      "text/plain": [
       "<Figure size 1600x600 with 2 Axes>"
      ]
     },
     "metadata": {},
     "output_type": "display_data"
    },
    {
     "data": {
      "text/html": [
       "<div>\n",
       "<style scoped>\n",
       "    .dataframe tbody tr th:only-of-type {\n",
       "        vertical-align: middle;\n",
       "    }\n",
       "\n",
       "    .dataframe tbody tr th {\n",
       "        vertical-align: top;\n",
       "    }\n",
       "\n",
       "    .dataframe thead th {\n",
       "        text-align: right;\n",
       "    }\n",
       "</style>\n",
       "<table border=\"1\" class=\"dataframe\">\n",
       "  <thead>\n",
       "    <tr style=\"text-align: right;\">\n",
       "      <th></th>\n",
       "      <th>app_name</th>\n",
       "      <th>count</th>\n",
       "      <th>mean</th>\n",
       "    </tr>\n",
       "  </thead>\n",
       "  <tbody>\n",
       "    <tr>\n",
       "      <th>0</th>\n",
       "      <td>Combanketh</td>\n",
       "      <td>5000</td>\n",
       "      <td>4.098000</td>\n",
       "    </tr>\n",
       "    <tr>\n",
       "      <th>1</th>\n",
       "      <td>Boa</td>\n",
       "      <td>1045</td>\n",
       "      <td>3.065072</td>\n",
       "    </tr>\n",
       "    <tr>\n",
       "      <th>2</th>\n",
       "      <td>Dashen</td>\n",
       "      <td>448</td>\n",
       "      <td>4.479911</td>\n",
       "    </tr>\n",
       "  </tbody>\n",
       "</table>\n",
       "</div>"
      ],
      "text/plain": [
       "     app_name  count      mean\n",
       "0  Combanketh   5000  4.098000\n",
       "1         Boa   1045  3.065072\n",
       "2      Dashen    448  4.479911"
      ]
     },
     "execution_count": 12,
     "metadata": {},
     "output_type": "execute_result"
    }
   ],
   "source": [
    "from analysis_and_visualization import visualize_rating_distribution_side_by_side\n",
    "\n",
    "visualize_rating_distribution_side_by_side(cleaned_data, \"app_name\");"
   ]
  }
 ],
 "metadata": {
  "kernelspec": {
   "display_name": "venv",
   "language": "python",
   "name": "python3"
  },
  "language_info": {
   "codemirror_mode": {
    "name": "ipython",
    "version": 3
   },
   "file_extension": ".py",
   "mimetype": "text/x-python",
   "name": "python",
   "nbconvert_exporter": "python",
   "pygments_lexer": "ipython3",
   "version": "3.11.9"
  }
 },
 "nbformat": 4,
 "nbformat_minor": 5
}
