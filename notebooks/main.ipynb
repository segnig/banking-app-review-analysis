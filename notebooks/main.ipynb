{
 "cells": [
  {
   "cell_type": "code",
   "execution_count": 18,
   "id": "88fe2842",
   "metadata": {},
   "outputs": [
    {
     "name": "stdout",
     "output_type": "stream",
     "text": [
      "Scraping reviews for 3 apps...\n"
     ]
    },
    {
     "name": "stderr",
     "output_type": "stream",
     "text": [
      "Scraping apps:   0%|          | 0/3 [00:00<?, ?it/s]"
     ]
    },
    {
     "name": "stdout",
     "output_type": "stream",
     "text": [
      "No reviews scraped for com.combanketh.mobilebanking\n"
     ]
    },
    {
     "name": "stderr",
     "output_type": "stream",
     "text": [
      "Scraping apps:  33%|███▎      | 1/3 [00:23<00:47, 23.69s/it]"
     ]
    },
    {
     "name": "stdout",
     "output_type": "stream",
     "text": [
      "No reviews scraped for com.dashen.dashensuperapp\n"
     ]
    },
    {
     "name": "stderr",
     "output_type": "stream",
     "text": [
      "Scraping apps:  67%|██████▋   | 2/3 [00:43<00:21, 21.46s/it]"
     ]
    },
    {
     "name": "stdout",
     "output_type": "stream",
     "text": [
      "No reviews scraped for com.boa.boaMobileBanking\n"
     ]
    },
    {
     "name": "stderr",
     "output_type": "stream",
     "text": [
      "Scraping apps: 100%|██████████| 3/3 [01:01<00:00, 20.40s/it]"
     ]
    },
    {
     "name": "stdout",
     "output_type": "stream",
     "text": [
      "Scraped 0 reviews\n",
      "Scraped metadata for 0 apps\n"
     ]
    },
    {
     "name": "stderr",
     "output_type": "stream",
     "text": [
      "\n"
     ]
    }
   ],
   "source": [
    "import sys\n",
    "import os\n",
    "\n",
    "sys.path.append(os.path.abspath(\"../scripts\"))\n",
    "from scrape_reviews import ScrapeReview\n",
    "\n",
    "app_ids = [\"com.combanketh.mobilebanking\", \"com.dashen.dashensuperapp\", \"com.boa.boaMobileBanking\"]\n",
    "scraper = ScrapeReview(\n",
    "    app_ids=app_ids,\n",
    "    save=True,\n",
    "    scrape_metadata=False,\n",
    "    max_retries=5,\n",
    "    delay=1.5\n",
    ")\n",
    "\n",
    "reviews_df = scraper.get_reviews()\n",
    "metadata = scraper.get_metadata()\n",
    "\n",
    "print(f\"Scraped {len(reviews_df)} reviews\")\n",
    "print(f\"Scraped metadata for {len(metadata)} apps\")"
   ]
  },
  {
   "cell_type": "code",
   "execution_count": null,
   "id": "0a0ed95c",
   "metadata": {},
   "outputs": [],
   "source": [
    "\n",
    "\n"
   ]
  },
  {
   "cell_type": "code",
   "execution_count": null,
   "id": "86c0099b",
   "metadata": {},
   "outputs": [],
   "source": []
  }
 ],
 "metadata": {
  "kernelspec": {
   "display_name": "venv",
   "language": "python",
   "name": "python3"
  },
  "language_info": {
   "codemirror_mode": {
    "name": "ipython",
    "version": 3
   },
   "file_extension": ".py",
   "mimetype": "text/x-python",
   "name": "python",
   "nbconvert_exporter": "python",
   "pygments_lexer": "ipython3",
   "version": "3.11.9"
  }
 },
 "nbformat": 4,
 "nbformat_minor": 5
}
