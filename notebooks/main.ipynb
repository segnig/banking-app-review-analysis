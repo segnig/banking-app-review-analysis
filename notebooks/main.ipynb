{
 "cells": [
  {
   "cell_type": "code",
   "execution_count": 1,
   "id": "88fe2842",
   "metadata": {},
   "outputs": [
    {
     "name": "stdout",
     "output_type": "stream",
     "text": [
      "Scraping reviews for 3 apps...\n"
     ]
    },
    {
     "name": "stderr",
     "output_type": "stream",
     "text": [
      "Scraping apps:  33%|███▎      | 1/3 [00:36<01:13, 36.83s/it]c:\\Users\\segni\\Documents\\GitHub\\banking-app-review-analysis\\scripts\\scrape_reviews.py:133: FutureWarning: The behavior of DataFrame concatenation with empty or all-NA entries is deprecated. In a future version, this will no longer exclude empty or all-NA columns when determining the result dtypes. To retain the old behavior, exclude the relevant entries before the concat operation.\n",
      "  all_data = pd.concat([all_data, df], ignore_index=True)\n",
      "Scraping apps: 100%|██████████| 3/3 [00:53<00:00, 17.84s/it]"
     ]
    },
    {
     "name": "stdout",
     "output_type": "stream",
     "text": [
      "Data saved to ../data\\raw_reviews.csv\n",
      "Data also saved as JSON to ../data\\raw_reviews.json\n",
      "Scraped 6493 reviews\n",
      "Scraped metadata for 0 apps\n"
     ]
    },
    {
     "name": "stderr",
     "output_type": "stream",
     "text": [
      "\n"
     ]
    }
   ],
   "source": [
    "import sys\n",
    "import os\n",
    "\n",
    "sys.path.append(os.path.abspath(\"../scripts\"))\n",
    "from scrape_reviews import ScrapeReview\n",
    "\n",
    "app_ids = [\"com.combanketh.mobilebanking\", \"com.dashen.dashensuperapp\", \"com.boa.boaMobileBanking\"]\n",
    "scraper = ScrapeReview(\n",
    "    app_ids=app_ids,\n",
    "    save=True,\n",
    "    scrape_metadata=False,\n",
    "    max_retries=5,\n",
    "    delay=1.5\n",
    ")\n",
    "\n",
    "reviews_df = scraper.get_reviews()\n",
    "metadata = scraper.get_metadata()\n",
    "\n",
    "print(f\"Scraped {len(reviews_df)} reviews\")\n",
    "print(f\"Scraped metadata for {len(metadata)} apps\")"
   ]
  },
  {
   "cell_type": "code",
   "execution_count": 10,
   "id": "0a0ed95c",
   "metadata": {},
   "outputs": [
    {
     "data": {
      "text/html": [
       "<div>\n",
       "<style scoped>\n",
       "    .dataframe tbody tr th:only-of-type {\n",
       "        vertical-align: middle;\n",
       "    }\n",
       "\n",
       "    .dataframe tbody tr th {\n",
       "        vertical-align: top;\n",
       "    }\n",
       "\n",
       "    .dataframe thead th {\n",
       "        text-align: right;\n",
       "    }\n",
       "</style>\n",
       "<table border=\"1\" class=\"dataframe\">\n",
       "  <thead>\n",
       "    <tr style=\"text-align: right;\">\n",
       "      <th></th>\n",
       "      <th>reviewId</th>\n",
       "      <th>userName</th>\n",
       "      <th>content</th>\n",
       "      <th>score</th>\n",
       "      <th>thumbsUpCount</th>\n",
       "      <th>at</th>\n",
       "      <th>app_id</th>\n",
       "    </tr>\n",
       "  </thead>\n",
       "  <tbody>\n",
       "    <tr>\n",
       "      <th>0</th>\n",
       "      <td>8efd71e9-59cd-41ce-8c5c-12052dee9ad0</td>\n",
       "      <td>A Google user</td>\n",
       "      <td>what is this app problem???</td>\n",
       "      <td>1</td>\n",
       "      <td>0</td>\n",
       "      <td>2025-06-05 22:16:56</td>\n",
       "      <td>com.combanketh.mobilebanking</td>\n",
       "    </tr>\n",
       "    <tr>\n",
       "      <th>1</th>\n",
       "      <td>b12d0383-9b27-4e49-a94d-277a43b15800</td>\n",
       "      <td>A Google user</td>\n",
       "      <td>the app is proactive and a good connections.</td>\n",
       "      <td>5</td>\n",
       "      <td>0</td>\n",
       "      <td>2025-06-05 15:55:10</td>\n",
       "      <td>com.combanketh.mobilebanking</td>\n",
       "    </tr>\n",
       "    <tr>\n",
       "      <th>2</th>\n",
       "      <td>dd9f9e37-177a-46df-b877-d0edaa9aed29</td>\n",
       "      <td>A Google user</td>\n",
       "      <td>I cannot send to cbebirr app. through this app.</td>\n",
       "      <td>3</td>\n",
       "      <td>0</td>\n",
       "      <td>2025-06-05 11:12:49</td>\n",
       "      <td>com.combanketh.mobilebanking</td>\n",
       "    </tr>\n",
       "    <tr>\n",
       "      <th>3</th>\n",
       "      <td>8e34703c-203c-4180-8b32-bfd0b3f0c871</td>\n",
       "      <td>A Google user</td>\n",
       "      <td>good</td>\n",
       "      <td>4</td>\n",
       "      <td>0</td>\n",
       "      <td>2025-06-05 10:21:59</td>\n",
       "      <td>com.combanketh.mobilebanking</td>\n",
       "    </tr>\n",
       "    <tr>\n",
       "      <th>4</th>\n",
       "      <td>6f0c7fa2-3ce1-4310-b135-54fe0cb9fccd</td>\n",
       "      <td>A Google user</td>\n",
       "      <td>not functional</td>\n",
       "      <td>1</td>\n",
       "      <td>0</td>\n",
       "      <td>2025-06-05 07:38:12</td>\n",
       "      <td>com.combanketh.mobilebanking</td>\n",
       "    </tr>\n",
       "  </tbody>\n",
       "</table>\n",
       "</div>"
      ],
      "text/plain": [
       "                               reviewId       userName  \\\n",
       "0  8efd71e9-59cd-41ce-8c5c-12052dee9ad0  A Google user   \n",
       "1  b12d0383-9b27-4e49-a94d-277a43b15800  A Google user   \n",
       "2  dd9f9e37-177a-46df-b877-d0edaa9aed29  A Google user   \n",
       "3  8e34703c-203c-4180-8b32-bfd0b3f0c871  A Google user   \n",
       "4  6f0c7fa2-3ce1-4310-b135-54fe0cb9fccd  A Google user   \n",
       "\n",
       "                                           content  score  thumbsUpCount  \\\n",
       "0                      what is this app problem???      1              0   \n",
       "1     the app is proactive and a good connections.      5              0   \n",
       "2  I cannot send to cbebirr app. through this app.      3              0   \n",
       "3                                             good      4              0   \n",
       "4                                   not functional      1              0   \n",
       "\n",
       "                   at                        app_id  \n",
       "0 2025-06-05 22:16:56  com.combanketh.mobilebanking  \n",
       "1 2025-06-05 15:55:10  com.combanketh.mobilebanking  \n",
       "2 2025-06-05 11:12:49  com.combanketh.mobilebanking  \n",
       "3 2025-06-05 10:21:59  com.combanketh.mobilebanking  \n",
       "4 2025-06-05 07:38:12  com.combanketh.mobilebanking  "
      ]
     },
     "execution_count": 10,
     "metadata": {},
     "output_type": "execute_result"
    }
   ],
   "source": [
    "reviews_df.head()"
   ]
  },
  {
   "cell_type": "markdown",
   "id": "2c2b322d",
   "metadata": {},
   "source": [
    "### Data preprocess"
   ]
  },
  {
   "cell_type": "code",
   "execution_count": 11,
   "id": "d12ea5f6",
   "metadata": {},
   "outputs": [
    {
     "data": {
      "text/plain": [
       "reviewId         0\n",
       "userName         0\n",
       "content          0\n",
       "score            0\n",
       "thumbsUpCount    0\n",
       "at               0\n",
       "app_id           0\n",
       "dtype: int64"
      ]
     },
     "execution_count": 11,
     "metadata": {},
     "output_type": "execute_result"
    }
   ],
   "source": [
    "reviews_df.isna().sum()"
   ]
  },
  {
   "cell_type": "code",
   "execution_count": 12,
   "id": "85fbf535",
   "metadata": {},
   "outputs": [
    {
     "data": {
      "text/plain": [
       "np.int64(0)"
      ]
     },
     "execution_count": 12,
     "metadata": {},
     "output_type": "execute_result"
    }
   ],
   "source": [
    "# Check duplicate data rows \n",
    "\n",
    "reviews_df.duplicated().sum()"
   ]
  },
  {
   "cell_type": "code",
   "execution_count": 13,
   "id": "0de507c8",
   "metadata": {},
   "outputs": [
    {
     "name": "stdout",
     "output_type": "stream",
     "text": [
      "Loading data from ../data/raw_reviews.csv\n",
      "Successfully loaded 6493 records\n",
      "Starting data preprocessing\n",
      "Dropped 0 records with missing values\n",
      "Dropped 0 duplicate records\n",
      "Successfully saved 6493 records to ../data/cleaned_reviews.csv\n",
      "Final cleaned data has 6493 records\n"
     ]
    },
    {
     "data": {
      "text/html": [
       "<div>\n",
       "<style scoped>\n",
       "    .dataframe tbody tr th:only-of-type {\n",
       "        vertical-align: middle;\n",
       "    }\n",
       "\n",
       "    .dataframe tbody tr th {\n",
       "        vertical-align: top;\n",
       "    }\n",
       "\n",
       "    .dataframe thead th {\n",
       "        text-align: right;\n",
       "    }\n",
       "</style>\n",
       "<table border=\"1\" class=\"dataframe\">\n",
       "  <thead>\n",
       "    <tr style=\"text-align: right;\">\n",
       "      <th></th>\n",
       "      <th>app_id</th>\n",
       "      <th>app_name</th>\n",
       "      <th>user_name</th>\n",
       "      <th>review</th>\n",
       "      <th>rating</th>\n",
       "      <th>thumbs_up_count</th>\n",
       "      <th>date</th>\n",
       "    </tr>\n",
       "  </thead>\n",
       "  <tbody>\n",
       "    <tr>\n",
       "      <th>0</th>\n",
       "      <td>com.combanketh.mobilebanking</td>\n",
       "      <td>Combanketh</td>\n",
       "      <td>A Google user</td>\n",
       "      <td>what is this app problem???</td>\n",
       "      <td>1</td>\n",
       "      <td>0</td>\n",
       "      <td>2025-06-05 22:16:56</td>\n",
       "    </tr>\n",
       "    <tr>\n",
       "      <th>1</th>\n",
       "      <td>com.combanketh.mobilebanking</td>\n",
       "      <td>Combanketh</td>\n",
       "      <td>A Google user</td>\n",
       "      <td>the app is proactive and a good connections.</td>\n",
       "      <td>5</td>\n",
       "      <td>0</td>\n",
       "      <td>2025-06-05 15:55:10</td>\n",
       "    </tr>\n",
       "    <tr>\n",
       "      <th>2</th>\n",
       "      <td>com.combanketh.mobilebanking</td>\n",
       "      <td>Combanketh</td>\n",
       "      <td>A Google user</td>\n",
       "      <td>I cannot send to cbebirr app. through this app.</td>\n",
       "      <td>3</td>\n",
       "      <td>0</td>\n",
       "      <td>2025-06-05 11:12:49</td>\n",
       "    </tr>\n",
       "    <tr>\n",
       "      <th>3</th>\n",
       "      <td>com.combanketh.mobilebanking</td>\n",
       "      <td>Combanketh</td>\n",
       "      <td>A Google user</td>\n",
       "      <td>good</td>\n",
       "      <td>4</td>\n",
       "      <td>0</td>\n",
       "      <td>2025-06-05 10:21:59</td>\n",
       "    </tr>\n",
       "    <tr>\n",
       "      <th>4</th>\n",
       "      <td>com.combanketh.mobilebanking</td>\n",
       "      <td>Combanketh</td>\n",
       "      <td>A Google user</td>\n",
       "      <td>not functional</td>\n",
       "      <td>1</td>\n",
       "      <td>0</td>\n",
       "      <td>2025-06-05 07:38:12</td>\n",
       "    </tr>\n",
       "  </tbody>\n",
       "</table>\n",
       "</div>"
      ],
      "text/plain": [
       "                         app_id    app_name      user_name  \\\n",
       "0  com.combanketh.mobilebanking  Combanketh  A Google user   \n",
       "1  com.combanketh.mobilebanking  Combanketh  A Google user   \n",
       "2  com.combanketh.mobilebanking  Combanketh  A Google user   \n",
       "3  com.combanketh.mobilebanking  Combanketh  A Google user   \n",
       "4  com.combanketh.mobilebanking  Combanketh  A Google user   \n",
       "\n",
       "                                            review  rating  thumbs_up_count  \\\n",
       "0                      what is this app problem???       1                0   \n",
       "1     the app is proactive and a good connections.       5                0   \n",
       "2  I cannot send to cbebirr app. through this app.       3                0   \n",
       "3                                             good       4                0   \n",
       "4                                   not functional       1                0   \n",
       "\n",
       "                 date  \n",
       "0 2025-06-05 22:16:56  \n",
       "1 2025-06-05 15:55:10  \n",
       "2 2025-06-05 11:12:49  \n",
       "3 2025-06-05 10:21:59  \n",
       "4 2025-06-05 07:38:12  "
      ]
     },
     "execution_count": 13,
     "metadata": {},
     "output_type": "execute_result"
    }
   ],
   "source": [
    "import sys\n",
    "import os\n",
    "\n",
    "sys.path.append(os.path.abspath(\"../scripts\"))\n",
    "from preprocess import DataPreprocessor\n",
    "\n",
    "\n",
    "input_file = \"../data/raw_reviews.csv\"\n",
    "output_file = \"../data/cleaned_reviews.csv\"\n",
    "# Initialize with verbose output\n",
    "preprocessor = DataPreprocessor(\n",
    "    input_file=input_file,\n",
    "    output_file=output_file,\n",
    "    save=True,\n",
    "    verbose=True\n",
    ")\n",
    "\n",
    "# Get cleaned data\n",
    "cleaned_data = preprocessor.get_cleaned_data()\n",
    "\n",
    "# Check results\n",
    "print(f\"Final cleaned data has {len(cleaned_data)} records\")\n",
    "cleaned_data.head()"
   ]
  },
  {
   "cell_type": "markdown",
   "id": "9e938b89",
   "metadata": {},
   "source": [
    "### **Cleaned data**"
   ]
  },
  {
   "cell_type": "code",
   "execution_count": 14,
   "id": "721d77c6",
   "metadata": {},
   "outputs": [
    {
     "data": {
      "text/plain": [
       "app_name\n",
       "Combanketh    5000\n",
       "Boa           1045\n",
       "Dashen         448\n",
       "Name: count, dtype: int64"
      ]
     },
     "execution_count": 14,
     "metadata": {},
     "output_type": "execute_result"
    }
   ],
   "source": [
    "cleaned_data.app_name.value_counts()"
   ]
  },
  {
   "cell_type": "markdown",
   "id": "d32dd7cb",
   "metadata": {},
   "source": [
    "### EDA"
   ]
  },
  {
   "cell_type": "code",
   "execution_count": 15,
   "id": "193d8660",
   "metadata": {},
   "outputs": [],
   "source": [
    "import seaborn as sns\n",
    "import matplotlib.pyplot as plt"
   ]
  },
  {
   "cell_type": "code",
   "execution_count": 8,
   "id": "3e248bcb",
   "metadata": {},
   "outputs": [
    {
     "data": {
      "image/png": "[encoded data removed]",
      "text/plain": [
       "<Figure size 640x480 with 1 Axes>"
      ]
     },
     "metadata": {},
     "output_type": "display_data"
    }
   ],
   "source": [
    "sns.countplot(\n",
    "    data=cleaned_data, x='app_name', \n",
    "    order=cleaned_data['app_name'].value_counts().index, \n",
    "    hue='app_name',\n",
    "    palette='viridis'\n",
    "    )\n",
    "plt.title(\"Distribution of Reviews by App\")\n",
    "plt.xticks(rotation=45)\n",
    "plt.show()"
   ]
  },
  {
   "cell_type": "code",
   "execution_count": 16,
   "id": "4ef34f05",
   "metadata": {},
   "outputs": [
    {
     "name": "stderr",
     "output_type": "stream",
     "text": [
      "C:\\Users\\segni\\AppData\\Local\\Temp\\ipykernel_15852\\3178213291.py:2: FutureWarning: \n",
      "\n",
      "Passing `palette` without assigning `hue` is deprecated and will be removed in v0.14.0. Assign the `x` variable to `hue` and set `legend=False` for the same effect.\n",
      "\n",
      "  sns.barplot(\n"
     ]
    },
    {
     "data": {
      "text/plain": [
       "<Axes: xlabel='app_name', ylabel='rating'>"
      ]
     },
     "execution_count": 16,
     "metadata": {},
     "output_type": "execute_result"
    },
    {
     "data": {
      "image/png": "[encoded data removed]",
      "text/plain": [
       "<Figure size 640x480 with 1 Axes>"
      ]
     },
     "metadata": {},
     "output_type": "display_data"
    }
   ],
   "source": [
    "grouped_by_app = cleaned_data.groupby('app_name')[\"rating\"].mean().reset_index()\n",
    "sns.barplot(\n",
    "    data=grouped_by_app, x='app_name', y='rating', \n",
    "    palette='viridis'\n",
    ")"
   ]
  },
  {
   "cell_type": "code",
   "execution_count": null,
   "id": "6ce81e5b",
   "metadata": {},
   "outputs": [],
   "source": []
  }
 ],
 "metadata": {
  "kernelspec": {
   "display_name": "venv",
   "language": "python",
   "name": "python3"
  },
  "language_info": {
   "codemirror_mode": {
    "name": "ipython",
    "version": 3
   },
   "file_extension": ".py",
   "mimetype": "text/x-python",
   "name": "python",
   "nbconvert_exporter": "python",
   "pygments_lexer": "ipython3",
   "version": "3.11.9"
  }
 },
 "nbformat": 4,
 "nbformat_minor": 5
}
